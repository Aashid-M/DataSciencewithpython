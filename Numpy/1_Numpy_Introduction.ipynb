{
 "cells": [
  {
   "cell_type": "markdown",
   "metadata": {},
   "source": [
    "# __Introduction to NumPy__"
   ]
  },
  {
   "cell_type": "markdown",
   "metadata": {},
   "source": [
    "## __Agenda__\n",
    "\n",
    "In this lesson, we will cover the following concepts with the help of examples:\n",
    "\n",
    "- Fundamentals of NumPy\n",
    "  * Advantages of NumPy\n",
    "  * NumPy: Installation and Import\n",
    "- NumPy: Array Object\n",
    "  * Creating NumPy Arrays"
   ]
  },
  {
   "cell_type": "markdown",
   "metadata": {
    "tags": []
   },
   "source": [
    "## __1. Fundamentals of NumPy__\n",
    "\n",
    "NumPy (Numerical Python) is a free and open-source library that is mostly used for mathematical operations in scientific and engineering applications.\n",
    "\n",
    "- It is a Python library used for working with arrays.\n",
    "- It consists of a multidimensional array of objects and a collection of functions for manipulating them.\n",
    "- It conducts mathematical and logical operations on arrays.\n",
    "\n",
    "**Note:** The array object in NumPy is called ndarray."
   ]
  },
  {
   "cell_type": "markdown",
   "metadata": {},
   "source": [
    "### __1.1  Advantages of NumPy__\n",
    "- It provides an array object that is faster than traditional Python lists.\n",
    "- It provides supporting functions.\n",
    "- Arrays are frequently used in data science.\n",
    "- NumPy arrays are stored in one continuous place in memory, unlike lists."
   ]
  },
  {
   "cell_type": "markdown",
   "metadata": {},
   "source": [
    "### __1.2 NumPy: Installation and Import__\n",
    "- `C:\\Users\\Your Name>pip install numpy` command is used to install NumPy.\n",
    "- NumPy is imported under the name np like `import numpy as np`."
   ]
  },
  {
   "cell_type": "markdown",
   "metadata": {},
   "source": [
    "## __2. NumPy: Array Object__\n",
    "A NumPy ndarray object can be created by using the array() function."
   ]
  },
  {
   "cell_type": "code",
   "execution_count": 1,
   "metadata": {
    "execution": {
     "iopub.execute_input": "2024-12-11T14:40:13.303917Z",
     "iopub.status.busy": "2024-12-11T14:40:13.302122Z",
     "iopub.status.idle": "2024-12-11T14:40:13.447519Z",
     "shell.execute_reply": "2024-12-11T14:40:13.447229Z",
     "shell.execute_reply.started": "2024-12-11T14:40:13.303869Z"
    }
   },
   "outputs": [
    {
     "data": {
      "text/plain": [
       "array([10, 20, 30, 40, 50])"
      ]
     },
     "execution_count": 1,
     "metadata": {},
     "output_type": "execute_result"
    }
   ],
   "source": [
    "# Example:\n",
    "import numpy as np\n",
    "arr = np.array ([10,20,30,40,50])\n",
    "arr"
   ]
  },
  {
   "cell_type": "code",
   "execution_count": 2,
   "metadata": {
    "execution": {
     "iopub.execute_input": "2024-12-11T14:40:48.336510Z",
     "iopub.status.busy": "2024-12-11T14:40:48.336249Z",
     "iopub.status.idle": "2024-12-11T14:40:48.347868Z",
     "shell.execute_reply": "2024-12-11T14:40:48.347450Z",
     "shell.execute_reply.started": "2024-12-11T14:40:48.336495Z"
    },
    "tags": []
   },
   "outputs": [
    {
     "data": {
      "text/plain": [
       "numpy.ndarray"
      ]
     },
     "execution_count": 2,
     "metadata": {},
     "output_type": "execute_result"
    }
   ],
   "source": [
    "type(arr)"
   ]
  },
  {
   "cell_type": "markdown",
   "metadata": {},
   "source": [
    "### __2.1 Creating NumPy Arrays__\n",
    "- Create multiple dimensional arrays, such as 0D, 1D, 2D and 3D"
   ]
  },
  {
   "cell_type": "code",
   "execution_count": 3,
   "metadata": {
    "execution": {
     "iopub.execute_input": "2024-12-11T14:42:05.125716Z",
     "iopub.status.busy": "2024-12-11T14:42:05.125355Z",
     "iopub.status.idle": "2024-12-11T14:42:05.138226Z",
     "shell.execute_reply": "2024-12-11T14:42:05.136028Z",
     "shell.execute_reply.started": "2024-12-11T14:42:05.125693Z"
    }
   },
   "outputs": [
    {
     "name": "stdout",
     "output_type": "stream",
     "text": [
      "0D array is 24\n"
     ]
    }
   ],
   "source": [
    "# Create a 0D Array\n",
    "arr0 = np.array(24)\n",
    "print ('0D array is', arr0)"
   ]
  },
  {
   "cell_type": "code",
   "execution_count": 4,
   "metadata": {
    "execution": {
     "iopub.execute_input": "2024-12-11T14:45:02.270252Z",
     "iopub.status.busy": "2024-12-11T14:45:02.269777Z",
     "iopub.status.idle": "2024-12-11T14:45:02.285082Z",
     "shell.execute_reply": "2024-12-11T14:45:02.282781Z",
     "shell.execute_reply.started": "2024-12-11T14:45:02.270228Z"
    }
   },
   "outputs": [
    {
     "name": "stdout",
     "output_type": "stream",
     "text": [
      "1D array is [1 2 3 4]\n"
     ]
    }
   ],
   "source": [
    "# Create a 1D Array\n",
    "arr1 = np.array([1,2,3,4])\n",
    "print ('1D array is', arr1)"
   ]
  },
  {
   "cell_type": "code",
   "execution_count": 5,
   "metadata": {
    "execution": {
     "iopub.execute_input": "2024-12-11T14:47:07.682453Z",
     "iopub.status.busy": "2024-12-11T14:47:07.681307Z",
     "iopub.status.idle": "2024-12-11T14:47:07.692724Z",
     "shell.execute_reply": "2024-12-11T14:47:07.691390Z",
     "shell.execute_reply.started": "2024-12-11T14:47:07.682403Z"
    }
   },
   "outputs": [
    {
     "name": "stdout",
     "output_type": "stream",
     "text": [
      "2D array is [[1 1 1]\n",
      " [1 2 1]]\n"
     ]
    }
   ],
   "source": [
    "# Create a 2D Array\n",
    "arr2 = np.array([[1,1,1],\n",
    "                 [1,2,1]])\n",
    "print ('2D array is', arr2)"
   ]
  },
  {
   "cell_type": "code",
   "execution_count": 6,
   "metadata": {
    "execution": {
     "iopub.execute_input": "2024-12-11T14:47:24.736516Z",
     "iopub.status.busy": "2024-12-11T14:47:24.735957Z",
     "iopub.status.idle": "2024-12-11T14:47:24.754894Z",
     "shell.execute_reply": "2024-12-11T14:47:24.753824Z",
     "shell.execute_reply.started": "2024-12-11T14:47:24.736490Z"
    },
    "tags": []
   },
   "outputs": [
    {
     "data": {
      "text/plain": [
       "array([[1, 1, 1],\n",
       "       [1, 2, 1]])"
      ]
     },
     "execution_count": 6,
     "metadata": {},
     "output_type": "execute_result"
    }
   ],
   "source": [
    "arr2"
   ]
  },
  {
   "cell_type": "code",
   "execution_count": 7,
   "metadata": {
    "execution": {
     "iopub.execute_input": "2024-12-11T14:51:46.866649Z",
     "iopub.status.busy": "2024-12-11T14:51:46.866026Z",
     "iopub.status.idle": "2024-12-11T14:51:46.877963Z",
     "shell.execute_reply": "2024-12-11T14:51:46.877154Z",
     "shell.execute_reply.started": "2024-12-11T14:51:46.866599Z"
    }
   },
   "outputs": [
    {
     "name": "stdout",
     "output_type": "stream",
     "text": [
      "3D array is [[[1 1 1]\n",
      "  [2 2 2]]\n",
      "\n",
      " [[3 3 3]\n",
      "  [4 4 4]]]\n"
     ]
    }
   ],
   "source": [
    "# Create a 3D Array\n",
    "arr3 = np.array([[[1,1,1],\n",
    "                  [2,2,2]],\n",
    "                 [[3,3,3],\n",
    "                  [4,4,4]]])\n",
    "print ('3D array is', arr3)"
   ]
  },
  {
   "cell_type": "code",
   "execution_count": 8,
   "metadata": {
    "execution": {
     "iopub.execute_input": "2024-12-11T14:51:58.886710Z",
     "iopub.status.busy": "2024-12-11T14:51:58.885958Z",
     "iopub.status.idle": "2024-12-11T14:51:58.905431Z",
     "shell.execute_reply": "2024-12-11T14:51:58.904680Z",
     "shell.execute_reply.started": "2024-12-11T14:51:58.886684Z"
    },
    "tags": []
   },
   "outputs": [
    {
     "data": {
      "text/plain": [
       "array([[[1, 1, 1],\n",
       "        [2, 2, 2]],\n",
       "\n",
       "       [[3, 3, 3],\n",
       "        [4, 4, 4]]])"
      ]
     },
     "execution_count": 8,
     "metadata": {},
     "output_type": "execute_result"
    }
   ],
   "source": [
    "arr3"
   ]
  },
  {
   "cell_type": "code",
   "execution_count": 9,
   "metadata": {
    "execution": {
     "iopub.execute_input": "2024-12-11T14:56:40.408539Z",
     "iopub.status.busy": "2024-12-11T14:56:40.407688Z",
     "iopub.status.idle": "2024-12-11T14:56:40.420869Z",
     "shell.execute_reply": "2024-12-11T14:56:40.415763Z",
     "shell.execute_reply.started": "2024-12-11T14:56:40.408483Z"
    },
    "tags": []
   },
   "outputs": [
    {
     "name": "stdout",
     "output_type": "stream",
     "text": [
      "()\n",
      "(4,)\n",
      "(2, 3)\n",
      "(2, 2, 3)\n"
     ]
    }
   ],
   "source": [
    "print(arr0.shape) # scalar\n",
    "print(arr1.shape) # 1D are also called vectors\n",
    "print(arr2.shape) # 2D are also called matrices\n",
    "print(arr3.shape) # 3D are also called tensors"
   ]
  },
  {
   "cell_type": "markdown",
   "metadata": {},
   "source": [
    "**Observations:**\n",
    "- 1D arrays are unidimensional and have 0D arrays as its elements.\n",
    "- 2D arrays have 1D arrays as their elements.\n",
    "- 3D arrays have 2D arrays as their elements."
   ]
  },
  {
   "cell_type": "markdown",
   "metadata": {},
   "source": [
    "## __Assisted Practice__"
   ]
  },
  {
   "cell_type": "markdown",
   "metadata": {},
   "source": [
    "### __Problem Statement:__\n",
    "\n",
    "Create the following NumPy arrays and print them using appropriate code:\n",
    "\n",
    "- A 0D array (scalar)\n",
    "\n",
    "- A 1D array with elements [1, 2, 3, 4]\n",
    "\n",
    "- A 2D array with elements [[1, 1, 1], [1, 2, 1]]\n",
    "\n",
    "- A 3D array with elements [[[1, 1, 1], [2, 2, 2]], [[3, 3, 3], [4, 4, 4]]]"
   ]
  },
  {
   "cell_type": "code",
   "execution_count": 10,
   "metadata": {
    "execution": {
     "iopub.execute_input": "2024-12-11T15:12:14.809165Z",
     "iopub.status.busy": "2024-12-11T15:12:14.807228Z",
     "iopub.status.idle": "2024-12-11T15:12:14.829055Z",
     "shell.execute_reply": "2024-12-11T15:12:14.828442Z",
     "shell.execute_reply.started": "2024-12-11T15:12:14.809074Z"
    },
    "tags": []
   },
   "outputs": [
    {
     "data": {
      "text/plain": [
       "array(20)"
      ]
     },
     "execution_count": 10,
     "metadata": {},
     "output_type": "execute_result"
    }
   ],
   "source": [
    "zero_arr = np.array(20)\n",
    "zero_arr"
   ]
  },
  {
   "cell_type": "code",
   "execution_count": 11,
   "metadata": {
    "execution": {
     "iopub.execute_input": "2024-12-11T15:12:17.813938Z",
     "iopub.status.busy": "2024-12-11T15:12:17.813465Z",
     "iopub.status.idle": "2024-12-11T15:12:17.822581Z",
     "shell.execute_reply": "2024-12-11T15:12:17.821442Z",
     "shell.execute_reply.started": "2024-12-11T15:12:17.813913Z"
    },
    "tags": []
   },
   "outputs": [
    {
     "data": {
      "text/plain": [
       "()"
      ]
     },
     "execution_count": 11,
     "metadata": {},
     "output_type": "execute_result"
    }
   ],
   "source": [
    "zero_arr.shape"
   ]
  },
  {
   "cell_type": "code",
   "execution_count": 12,
   "metadata": {
    "execution": {
     "iopub.execute_input": "2024-12-11T15:12:26.475180Z",
     "iopub.status.busy": "2024-12-11T15:12:26.474127Z",
     "iopub.status.idle": "2024-12-11T15:12:26.488807Z",
     "shell.execute_reply": "2024-12-11T15:12:26.488180Z",
     "shell.execute_reply.started": "2024-12-11T15:12:26.475144Z"
    },
    "tags": []
   },
   "outputs": [
    {
     "data": {
      "text/plain": [
       "array([1, 2, 3, 4])"
      ]
     },
     "execution_count": 12,
     "metadata": {},
     "output_type": "execute_result"
    }
   ],
   "source": [
    "# 1D array with elements [1, 2, 3, 4]\n",
    "arr_1d = np.array([1, 2, 3, 4])\n",
    "arr_1d"
   ]
  },
  {
   "cell_type": "code",
   "execution_count": 13,
   "metadata": {
    "execution": {
     "iopub.execute_input": "2024-12-11T15:12:28.565040Z",
     "iopub.status.busy": "2024-12-11T15:12:28.564124Z",
     "iopub.status.idle": "2024-12-11T15:12:28.577435Z",
     "shell.execute_reply": "2024-12-11T15:12:28.575678Z",
     "shell.execute_reply.started": "2024-12-11T15:12:28.564992Z"
    },
    "tags": []
   },
   "outputs": [
    {
     "data": {
      "text/plain": [
       "(4,)"
      ]
     },
     "execution_count": 13,
     "metadata": {},
     "output_type": "execute_result"
    }
   ],
   "source": [
    "arr_1d.shape"
   ]
  },
  {
   "cell_type": "code",
   "execution_count": 14,
   "metadata": {
    "execution": {
     "iopub.execute_input": "2024-12-11T15:12:38.791483Z",
     "iopub.status.busy": "2024-12-11T15:12:38.791100Z",
     "iopub.status.idle": "2024-12-11T15:12:38.809975Z",
     "shell.execute_reply": "2024-12-11T15:12:38.809627Z",
     "shell.execute_reply.started": "2024-12-11T15:12:38.791459Z"
    },
    "tags": []
   },
   "outputs": [
    {
     "data": {
      "text/plain": [
       "array([[1, 1, 1],\n",
       "       [1, 2, 1]])"
      ]
     },
     "execution_count": 14,
     "metadata": {},
     "output_type": "execute_result"
    }
   ],
   "source": [
    "#  2D array with elements [[1, 1, 1], [1, 2, 1]]\n",
    "arr_2d = np.array([[1, 1, 1], [1, 2, 1]])\n",
    "arr_2d"
   ]
  },
  {
   "cell_type": "code",
   "execution_count": 15,
   "metadata": {
    "execution": {
     "iopub.execute_input": "2024-12-11T15:12:41.055009Z",
     "iopub.status.busy": "2024-12-11T15:12:41.054650Z",
     "iopub.status.idle": "2024-12-11T15:12:41.069586Z",
     "shell.execute_reply": "2024-12-11T15:12:41.063677Z",
     "shell.execute_reply.started": "2024-12-11T15:12:41.054985Z"
    },
    "tags": []
   },
   "outputs": [
    {
     "data": {
      "text/plain": [
       "(2, 3)"
      ]
     },
     "execution_count": 15,
     "metadata": {},
     "output_type": "execute_result"
    }
   ],
   "source": [
    "arr_2d.shape"
   ]
  },
  {
   "cell_type": "code",
   "execution_count": 16,
   "metadata": {
    "execution": {
     "iopub.execute_input": "2024-12-11T15:12:53.022742Z",
     "iopub.status.busy": "2024-12-11T15:12:53.022400Z",
     "iopub.status.idle": "2024-12-11T15:12:53.040157Z",
     "shell.execute_reply": "2024-12-11T15:12:53.039352Z",
     "shell.execute_reply.started": "2024-12-11T15:12:53.022719Z"
    },
    "tags": []
   },
   "outputs": [
    {
     "data": {
      "text/plain": [
       "array([[[1, 1, 1],\n",
       "        [2, 2, 2]],\n",
       "\n",
       "       [[3, 3, 3],\n",
       "        [4, 4, 4]]])"
      ]
     },
     "execution_count": 16,
     "metadata": {},
     "output_type": "execute_result"
    }
   ],
   "source": [
    "# 3D array with elements [[[1, 1, 1], [2, 2, 2]], [[3, 3, 3], [4, 4, 4]]]\n",
    "arr_3d = np.array([[[1, 1, 1], \n",
    "                    [2, 2, 2]], \n",
    "                   [[3, 3, 3], \n",
    "                    [4, 4, 4]]])\n",
    "arr_3d"
   ]
  },
  {
   "cell_type": "code",
   "execution_count": 17,
   "metadata": {
    "execution": {
     "iopub.execute_input": "2024-12-11T15:12:55.166026Z",
     "iopub.status.busy": "2024-12-11T15:12:55.165404Z",
     "iopub.status.idle": "2024-12-11T15:12:55.179466Z",
     "shell.execute_reply": "2024-12-11T15:12:55.178642Z",
     "shell.execute_reply.started": "2024-12-11T15:12:55.166001Z"
    },
    "tags": []
   },
   "outputs": [
    {
     "data": {
      "text/plain": [
       "(2, 2, 3)"
      ]
     },
     "execution_count": 17,
     "metadata": {},
     "output_type": "execute_result"
    }
   ],
   "source": [
    "arr_3d.shape"
   ]
  },
  {
   "cell_type": "code",
   "execution_count": null,
   "metadata": {},
   "outputs": [],
   "source": []
  }
 ],
 "metadata": {
  "kernelspec": {
   "display_name": "Python 3 (ipykernel)",
   "language": "python",
   "name": "python3"
  },
  "language_info": {
   "codemirror_mode": {
    "name": "ipython",
    "version": 3
   },
   "file_extension": ".py",
   "mimetype": "text/x-python",
   "name": "python",
   "nbconvert_exporter": "python",
   "pygments_lexer": "ipython3",
   "version": "3.12.3"
  },
  "widgets": {
   "application/vnd.jupyter.widget-state+json": {
    "state": {},
    "version_major": 2,
    "version_minor": 0
   }
  }
 },
 "nbformat": 4,
 "nbformat_minor": 4
}
