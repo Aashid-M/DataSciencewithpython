{
 "cells": [
  {
   "cell_type": "markdown",
   "id": "71f69af7-b9a3-47b0-b1a7-43d231db8030",
   "metadata": {},
   "source": [
    "# __NumPy Arithmetic Statistical and String Functions__"
   ]
  },
  {
   "cell_type": "markdown",
   "id": "463e7ab1-7426-4526-a13f-dff8ab39f4ed",
   "metadata": {},
   "source": [
    "## __Agenda__\n",
    "\n",
    "In this lesson, we will cover the following concepts with the help of examples:\n",
    "- Arithmetic Operations Using NumPy\n",
    "  * Addition\n",
    "  * Subtraction\n",
    "  * Multiplication\n",
    "  * Division\n",
    "  * Power of\n",
    "- Statistical Function in Numpy\n",
    "  * Calculating Median, Mean, Standard Deviation, and Variance in the Array\n",
    "  * Calculating Percentiles\n",
    "- String Function in Numpy"
   ]
  },
  {
   "cell_type": "markdown",
   "id": "e66cb653-4b00-4156-8ac3-c99f3f935e48",
   "metadata": {},
   "source": [
    "## __1. Arithmetic Operations Using NumPy__ ##\n",
    "### __1.1 Addition__ ###"
   ]
  },
  {
   "cell_type": "code",
   "execution_count": 1,
   "id": "0e5904e0-852b-48cd-9fbd-95e683667f71",
   "metadata": {
    "execution": {
     "iopub.execute_input": "2024-12-11T16:22:25.550093Z",
     "iopub.status.busy": "2024-12-11T16:22:25.549528Z",
     "iopub.status.idle": "2024-12-11T16:22:25.713151Z",
     "shell.execute_reply": "2024-12-11T16:22:25.712866Z",
     "shell.execute_reply.started": "2024-12-11T16:22:25.550048Z"
    },
    "tags": []
   },
   "outputs": [],
   "source": [
    "# Perform element-wise addition of two arrays using the 'np.add' method\n",
    "import numpy as np\n",
    "a = np.array([30,20,10])\n",
    "b = np.array([10,20,30])"
   ]
  },
  {
   "cell_type": "code",
   "execution_count": 2,
   "id": "e1b02e3b-5a85-4c49-9bd4-75d30ef227cb",
   "metadata": {
    "execution": {
     "iopub.execute_input": "2024-12-11T16:22:30.661194Z",
     "iopub.status.busy": "2024-12-11T16:22:30.660055Z",
     "iopub.status.idle": "2024-12-11T16:22:30.676502Z",
     "shell.execute_reply": "2024-12-11T16:22:30.675746Z",
     "shell.execute_reply.started": "2024-12-11T16:22:30.661138Z"
    },
    "tags": []
   },
   "outputs": [
    {
     "data": {
      "text/plain": [
       "array([30, 20, 10])"
      ]
     },
     "execution_count": 2,
     "metadata": {},
     "output_type": "execute_result"
    }
   ],
   "source": [
    "a"
   ]
  },
  {
   "cell_type": "code",
   "execution_count": 3,
   "id": "b1cbea4a-aa30-4b83-866a-d6fef53c370d",
   "metadata": {
    "execution": {
     "iopub.execute_input": "2024-12-11T16:22:32.879955Z",
     "iopub.status.busy": "2024-12-11T16:22:32.879458Z",
     "iopub.status.idle": "2024-12-11T16:22:32.897069Z",
     "shell.execute_reply": "2024-12-11T16:22:32.889202Z",
     "shell.execute_reply.started": "2024-12-11T16:22:32.879929Z"
    },
    "tags": []
   },
   "outputs": [
    {
     "data": {
      "text/plain": [
       "array([10, 20, 30])"
      ]
     },
     "execution_count": 3,
     "metadata": {},
     "output_type": "execute_result"
    }
   ],
   "source": [
    "b"
   ]
  },
  {
   "cell_type": "code",
   "execution_count": 4,
   "id": "5282f0ce-2b7a-4fe1-a8cb-fd19c0f1eefc",
   "metadata": {
    "execution": {
     "iopub.execute_input": "2024-12-11T16:22:50.987207Z",
     "iopub.status.busy": "2024-12-11T16:22:50.986825Z",
     "iopub.status.idle": "2024-12-11T16:22:51.011506Z",
     "shell.execute_reply": "2024-12-11T16:22:51.010345Z",
     "shell.execute_reply.started": "2024-12-11T16:22:50.987182Z"
    },
    "tags": []
   },
   "outputs": [
    {
     "data": {
      "text/plain": [
       "array([40, 40, 40])"
      ]
     },
     "execution_count": 4,
     "metadata": {},
     "output_type": "execute_result"
    }
   ],
   "source": [
    "a+b"
   ]
  },
  {
   "cell_type": "code",
   "execution_count": 5,
   "id": "c95a1fd2-dfa8-453a-848a-a63c990bfe8e",
   "metadata": {
    "execution": {
     "iopub.execute_input": "2024-12-11T16:23:25.415204Z",
     "iopub.status.busy": "2024-12-11T16:23:25.414650Z",
     "iopub.status.idle": "2024-12-11T16:23:25.449286Z",
     "shell.execute_reply": "2024-12-11T16:23:25.422644Z",
     "shell.execute_reply.started": "2024-12-11T16:23:25.415178Z"
    },
    "tags": []
   },
   "outputs": [
    {
     "data": {
      "text/plain": [
       "array([30, 20, 10])"
      ]
     },
     "execution_count": 5,
     "metadata": {},
     "output_type": "execute_result"
    }
   ],
   "source": [
    "a"
   ]
  },
  {
   "cell_type": "code",
   "execution_count": 6,
   "id": "5a8706eb-719b-4756-bda9-d0d740ff7b4c",
   "metadata": {
    "execution": {
     "iopub.execute_input": "2024-12-11T16:23:49.919416Z",
     "iopub.status.busy": "2024-12-11T16:23:49.919067Z",
     "iopub.status.idle": "2024-12-11T16:23:49.936580Z",
     "shell.execute_reply": "2024-12-11T16:23:49.926750Z",
     "shell.execute_reply.started": "2024-12-11T16:23:49.919392Z"
    },
    "tags": []
   },
   "outputs": [
    {
     "data": {
      "text/plain": [
       "array([40, 40, 40])"
      ]
     },
     "execution_count": 6,
     "metadata": {},
     "output_type": "execute_result"
    }
   ],
   "source": [
    "result = np.add (a,b)\n",
    "result"
   ]
  },
  {
   "cell_type": "markdown",
   "id": "49e66a1a-5c38-490c-b0fe-0d19c4a42974",
   "metadata": {},
   "source": [
    "### __1.2 Subtraction__ ###"
   ]
  },
  {
   "cell_type": "code",
   "execution_count": 7,
   "id": "283afd30-831c-4c1f-98be-a320676b2f09",
   "metadata": {
    "execution": {
     "iopub.execute_input": "2024-12-11T16:24:32.485003Z",
     "iopub.status.busy": "2024-12-11T16:24:32.479811Z",
     "iopub.status.idle": "2024-12-11T16:24:32.506364Z",
     "shell.execute_reply": "2024-12-11T16:24:32.504873Z",
     "shell.execute_reply.started": "2024-12-11T16:24:32.481150Z"
    },
    "tags": []
   },
   "outputs": [
    {
     "name": "stdout",
     "output_type": "stream",
     "text": [
      "[[20 20 30]\n",
      " [10 40 10]]\n"
     ]
    }
   ],
   "source": [
    "# Perform element-wise subtraction of two arrays using 'np.subtract' method\n",
    "a = np.array([[30,40,60], \n",
    "              [50,70,90]])\n",
    "\n",
    "b = np.array([[10,20,30], \n",
    "              [40,30,80]])\n",
    "\n",
    "result = np.subtract (a,b)\n",
    "print(result)"
   ]
  },
  {
   "cell_type": "code",
   "execution_count": 8,
   "id": "8b5e8154-ad14-47c8-8dd2-e81371cc2f46",
   "metadata": {
    "execution": {
     "iopub.execute_input": "2024-12-11T16:25:06.906692Z",
     "iopub.status.busy": "2024-12-11T16:25:06.905459Z",
     "iopub.status.idle": "2024-12-11T16:25:06.914948Z",
     "shell.execute_reply": "2024-12-11T16:25:06.914109Z",
     "shell.execute_reply.started": "2024-12-11T16:25:06.906656Z"
    },
    "tags": []
   },
   "outputs": [
    {
     "data": {
      "text/plain": [
       "array([[20, 20, 30],\n",
       "       [10, 40, 10]])"
      ]
     },
     "execution_count": 8,
     "metadata": {},
     "output_type": "execute_result"
    }
   ],
   "source": [
    "a-b"
   ]
  },
  {
   "cell_type": "markdown",
   "id": "3e709ed3-fae3-44ab-9001-2369326a3dd4",
   "metadata": {},
   "source": [
    "### __1.3 Multiplication__ ###"
   ]
  },
  {
   "cell_type": "code",
   "execution_count": 9,
   "id": "2e0a5652-5e45-4557-90ef-b6a5ee0e61ff",
   "metadata": {
    "execution": {
     "iopub.execute_input": "2024-12-11T16:26:15.638759Z",
     "iopub.status.busy": "2024-12-11T16:26:15.638228Z",
     "iopub.status.idle": "2024-12-11T16:26:15.649012Z",
     "shell.execute_reply": "2024-12-11T16:26:15.647837Z",
     "shell.execute_reply.started": "2024-12-11T16:26:15.638734Z"
    },
    "tags": []
   },
   "outputs": [
    {
     "name": "stdout",
     "output_type": "stream",
     "text": [
      "[300 400 300]\n"
     ]
    }
   ],
   "source": [
    "# Perform \"element-wise multiplication\" of two arrays using the 'np.multiply' method\n",
    "a = np.array([30,20,10])\n",
    "b = np.array([10,20,30])\n",
    "\n",
    "result = np.multiply (a,b)\n",
    "print(result)"
   ]
  },
  {
   "cell_type": "code",
   "execution_count": 10,
   "id": "7a2433ba-02b1-45dc-a7b3-bacb84b22223",
   "metadata": {
    "execution": {
     "iopub.execute_input": "2024-12-11T16:26:35.971019Z",
     "iopub.status.busy": "2024-12-11T16:26:35.970601Z",
     "iopub.status.idle": "2024-12-11T16:26:35.981178Z",
     "shell.execute_reply": "2024-12-11T16:26:35.980023Z",
     "shell.execute_reply.started": "2024-12-11T16:26:35.970996Z"
    },
    "tags": []
   },
   "outputs": [
    {
     "data": {
      "text/plain": [
       "array([300, 400, 300])"
      ]
     },
     "execution_count": 10,
     "metadata": {},
     "output_type": "execute_result"
    }
   ],
   "source": [
    "a*b"
   ]
  },
  {
   "cell_type": "code",
   "execution_count": 11,
   "id": "c7fada4f-334c-4eee-8922-dd54aea0a618",
   "metadata": {
    "execution": {
     "iopub.execute_input": "2024-12-11T16:27:18.869664Z",
     "iopub.status.busy": "2024-12-11T16:27:18.869312Z",
     "iopub.status.idle": "2024-12-11T16:27:18.890239Z",
     "shell.execute_reply": "2024-12-11T16:27:18.888208Z",
     "shell.execute_reply.started": "2024-12-11T16:27:18.869640Z"
    },
    "tags": []
   },
   "outputs": [
    {
     "data": {
      "text/plain": [
       "1000"
      ]
     },
     "execution_count": 11,
     "metadata": {},
     "output_type": "execute_result"
    }
   ],
   "source": [
    "# matrix multiplication\n",
    "np.matmul(a,b)"
   ]
  },
  {
   "cell_type": "markdown",
   "id": "ba84975c-4826-422c-b05d-6c1f899406b8",
   "metadata": {},
   "source": [
    "### __1.4 Division__ ###"
   ]
  },
  {
   "cell_type": "code",
   "execution_count": 12,
   "id": "ffc90978-a2ec-47c4-98ac-12644bb46e1b",
   "metadata": {
    "execution": {
     "iopub.execute_input": "2024-12-11T16:37:38.317096Z",
     "iopub.status.busy": "2024-12-11T16:37:38.315450Z",
     "iopub.status.idle": "2024-12-11T16:37:38.332371Z",
     "shell.execute_reply": "2024-12-11T16:37:38.331902Z",
     "shell.execute_reply.started": "2024-12-11T16:37:38.317019Z"
    },
    "tags": []
   },
   "outputs": [
    {
     "name": "stdout",
     "output_type": "stream",
     "text": [
      "Shape of matrix a:  (2, 3)\n"
     ]
    }
   ],
   "source": [
    "# Perform element-wise division of two arrays using the 'np.divide' method\n",
    "a = np.array([[1,2,1],\n",
    "              [2,2,3]])\n",
    "print(\"Shape of matrix a: \", a.shape)"
   ]
  },
  {
   "cell_type": "code",
   "execution_count": 13,
   "id": "98993708-447e-4ae3-81e2-c200ffdea51e",
   "metadata": {
    "execution": {
     "iopub.execute_input": "2024-12-11T16:37:50.124129Z",
     "iopub.status.busy": "2024-12-11T16:37:50.123268Z",
     "iopub.status.idle": "2024-12-11T16:37:50.138182Z",
     "shell.execute_reply": "2024-12-11T16:37:50.132130Z",
     "shell.execute_reply.started": "2024-12-11T16:37:50.124079Z"
    },
    "tags": []
   },
   "outputs": [
    {
     "name": "stdout",
     "output_type": "stream",
     "text": [
      "Shape of matrix b:  (3,)\n"
     ]
    }
   ],
   "source": [
    "b = np.array([3,4,5])\n",
    "print(\"Shape of matrix b: \", b.shape)"
   ]
  },
  {
   "cell_type": "code",
   "execution_count": 14,
   "id": "f9eed23d-89d5-4ed0-a4d7-b9b0619b252d",
   "metadata": {
    "execution": {
     "iopub.execute_input": "2024-12-11T16:44:07.237013Z",
     "iopub.status.busy": "2024-12-11T16:44:07.233626Z",
     "iopub.status.idle": "2024-12-11T16:44:07.253895Z",
     "shell.execute_reply": "2024-12-11T16:44:07.253281Z",
     "shell.execute_reply.started": "2024-12-11T16:44:07.236928Z"
    },
    "tags": []
   },
   "outputs": [
    {
     "name": "stdout",
     "output_type": "stream",
     "text": [
      "[[0.33333333 0.5        0.2       ]\n",
      " [0.66666667 0.5        0.6       ]]\n",
      "Shape of matrix result:  (2, 3)\n"
     ]
    }
   ],
   "source": [
    "result = np.divide (a,b)\n",
    "print(result)\n",
    "print(\"Shape of matrix result: \", result.shape) # broadcasting"
   ]
  },
  {
   "cell_type": "markdown",
   "id": "0a0df077-26b8-4a49-87d7-3c05862413f9",
   "metadata": {},
   "source": [
    "### __1.5 Power of__ ###"
   ]
  },
  {
   "cell_type": "code",
   "execution_count": 15,
   "id": "f7977369-a637-4782-8b0f-b0fa937c1c44",
   "metadata": {
    "execution": {
     "iopub.execute_input": "2024-12-11T16:45:28.847897Z",
     "iopub.status.busy": "2024-12-11T16:45:28.847259Z",
     "iopub.status.idle": "2024-12-11T16:45:28.860519Z",
     "shell.execute_reply": "2024-12-11T16:45:28.859325Z",
     "shell.execute_reply.started": "2024-12-11T16:45:28.847864Z"
    },
    "tags": []
   },
   "outputs": [
    {
     "name": "stdout",
     "output_type": "stream",
     "text": [
      "[ 4  8 16 32 64]\n"
     ]
    }
   ],
   "source": [
    "# Perform element-wise power operation where each element in 'a' is raised to the corresponding element in 'b' using the 'np.power' method\n",
    "a = [2,2,2,2,2]\n",
    "b = [2,3,4,5,6]\n",
    "a = np.array(a)\n",
    "b = np.array(b)\n",
    "c = np.power(a,b)\n",
    "print(c)"
   ]
  },
  {
   "cell_type": "markdown",
   "id": "249cda35-2cf7-4605-9492-6aaf29547b47",
   "metadata": {},
   "source": [
    "## __2. Statistical Function in Numpy__ ##\n",
    "### __2.1 Calculating Median, Mean, Standard Deviation, and Variance in the Array__ ###"
   ]
  },
  {
   "cell_type": "code",
   "execution_count": 16,
   "id": "e2d45ffc-d7a2-44a9-97c1-c38efb2eb69b",
   "metadata": {
    "execution": {
     "iopub.execute_input": "2024-12-11T16:47:40.462580Z",
     "iopub.status.busy": "2024-12-11T16:47:40.462011Z",
     "iopub.status.idle": "2024-12-11T16:47:40.471515Z",
     "shell.execute_reply": "2024-12-11T16:47:40.470866Z",
     "shell.execute_reply.started": "2024-12-11T16:47:40.462557Z"
    },
    "tags": []
   },
   "outputs": [
    {
     "data": {
      "text/plain": [
       "array([[ 4,  3,  2],\n",
       "       [10,  1,  0],\n",
       "       [ 5,  8, 24]])"
      ]
     },
     "execution_count": 16,
     "metadata": {},
     "output_type": "execute_result"
    }
   ],
   "source": [
    "# Median\n",
    "array = np.array([[4,3,2],\n",
    "                  [10,1,0],\n",
    "                  [5,8,24]])\n",
    "array"
   ]
  },
  {
   "cell_type": "code",
   "execution_count": 17,
   "id": "c9952c8c-e66a-4711-a468-f60aaffa3ddd",
   "metadata": {
    "execution": {
     "iopub.execute_input": "2024-12-11T16:48:36.821523Z",
     "iopub.status.busy": "2024-12-11T16:48:36.820923Z",
     "iopub.status.idle": "2024-12-11T16:48:36.832508Z",
     "shell.execute_reply": "2024-12-11T16:48:36.831562Z",
     "shell.execute_reply.started": "2024-12-11T16:48:36.821498Z"
    },
    "tags": []
   },
   "outputs": [
    {
     "data": {
      "text/plain": [
       "4.0"
      ]
     },
     "execution_count": 17,
     "metadata": {},
     "output_type": "execute_result"
    }
   ],
   "source": [
    "np.median(array) # median the 50th percentile. arrange from min to max and see which is the midpoint"
   ]
  },
  {
   "cell_type": "code",
   "execution_count": 18,
   "id": "f79db1a9-d1a4-4a23-9eb0-79325d00a326",
   "metadata": {
    "execution": {
     "iopub.execute_input": "2024-12-11T16:52:12.669873Z",
     "iopub.status.busy": "2024-12-11T16:52:12.669265Z",
     "iopub.status.idle": "2024-12-11T16:52:12.687814Z",
     "shell.execute_reply": "2024-12-11T16:52:12.685512Z",
     "shell.execute_reply.started": "2024-12-11T16:52:12.669834Z"
    },
    "tags": []
   },
   "outputs": [
    {
     "data": {
      "text/plain": [
       "6.333333333333333"
      ]
     },
     "execution_count": 18,
     "metadata": {},
     "output_type": "execute_result"
    }
   ],
   "source": [
    "# Mean\n",
    "np.mean(array)"
   ]
  },
  {
   "cell_type": "code",
   "execution_count": 19,
   "id": "16babed1-f7e4-4553-8d19-f8823dacae33",
   "metadata": {
    "execution": {
     "iopub.execute_input": "2024-12-11T16:52:37.061381Z",
     "iopub.status.busy": "2024-12-11T16:52:37.060758Z",
     "iopub.status.idle": "2024-12-11T16:52:37.072294Z",
     "shell.execute_reply": "2024-12-11T16:52:37.070372Z",
     "shell.execute_reply.started": "2024-12-11T16:52:37.061351Z"
    },
    "tags": []
   },
   "outputs": [
    {
     "data": {
      "text/plain": [
       "6.944222218666553"
      ]
     },
     "execution_count": 19,
     "metadata": {},
     "output_type": "execute_result"
    }
   ],
   "source": [
    "# Standard Deviation\n",
    "np.std(array)"
   ]
  },
  {
   "cell_type": "code",
   "execution_count": 20,
   "id": "59d343c6-46a1-4745-a60e-a92bb86ca3d1",
   "metadata": {
    "execution": {
     "iopub.execute_input": "2024-12-11T16:52:43.386011Z",
     "iopub.status.busy": "2024-12-11T16:52:43.385653Z",
     "iopub.status.idle": "2024-12-11T16:52:43.398321Z",
     "shell.execute_reply": "2024-12-11T16:52:43.396910Z",
     "shell.execute_reply.started": "2024-12-11T16:52:43.385988Z"
    },
    "tags": []
   },
   "outputs": [
    {
     "data": {
      "text/plain": [
       "48.22222222222222"
      ]
     },
     "execution_count": 20,
     "metadata": {},
     "output_type": "execute_result"
    }
   ],
   "source": [
    "# Variance\n",
    "np.var(array)"
   ]
  },
  {
   "cell_type": "markdown",
   "id": "b3c908ef-fb26-4d59-85ac-3e507643252a",
   "metadata": {},
   "source": [
    "### __2.2 Calculating Percentiles__ ###\n",
    "- The `np.percentile()` function is used to compute the nth percentile of the array elements.\n",
    "- The nth percentile value should be in between 0 and 100."
   ]
  },
  {
   "cell_type": "code",
   "execution_count": 22,
   "id": "7f0d73e1-eff0-47cb-9cbe-84dc5dea70cc",
   "metadata": {
    "execution": {
     "iopub.execute_input": "2024-12-11T16:54:04.357855Z",
     "iopub.status.busy": "2024-12-11T16:54:04.355803Z",
     "iopub.status.idle": "2024-12-11T16:54:04.376914Z",
     "shell.execute_reply": "2024-12-11T16:54:04.376561Z",
     "shell.execute_reply.started": "2024-12-11T16:54:04.356956Z"
    },
    "tags": []
   },
   "outputs": [
    {
     "data": {
      "text/plain": [
       "4.0"
      ]
     },
     "execution_count": 22,
     "metadata": {},
     "output_type": "execute_result"
    }
   ],
   "source": [
    "# Find the value under the 30th percentile of the NumPy array.\n",
    "np.percentile(array,50) # 50th percentile"
   ]
  },
  {
   "cell_type": "code",
   "execution_count": 23,
   "id": "bf12373b-6e89-49d1-aa49-1227f425ffbc",
   "metadata": {
    "execution": {
     "iopub.execute_input": "2024-12-11T16:58:06.586570Z",
     "iopub.status.busy": "2024-12-11T16:58:06.586144Z",
     "iopub.status.idle": "2024-12-11T16:58:06.591671Z",
     "shell.execute_reply": "2024-12-11T16:58:06.591208Z",
     "shell.execute_reply.started": "2024-12-11T16:58:06.586546Z"
    },
    "tags": []
   },
   "outputs": [
    {
     "data": {
      "text/plain": [
       "6.333333333333333"
      ]
     },
     "execution_count": 23,
     "metadata": {},
     "output_type": "execute_result"
    }
   ],
   "source": [
    "np.mean(array)"
   ]
  },
  {
   "cell_type": "code",
   "execution_count": 24,
   "id": "47803e7c-8197-48bd-b244-0ecd82ac5d67",
   "metadata": {
    "execution": {
     "iopub.execute_input": "2024-12-11T16:58:45.640612Z",
     "iopub.status.busy": "2024-12-11T16:58:45.639852Z",
     "iopub.status.idle": "2024-12-11T16:58:45.655823Z",
     "shell.execute_reply": "2024-12-11T16:58:45.654245Z",
     "shell.execute_reply.started": "2024-12-11T16:58:45.640538Z"
    },
    "tags": []
   },
   "outputs": [
    {
     "data": {
      "text/plain": [
       "6.333333333333333"
      ]
     },
     "execution_count": 24,
     "metadata": {},
     "output_type": "execute_result"
    }
   ],
   "source": [
    "array.mean() # mean method of array"
   ]
  },
  {
   "cell_type": "code",
   "execution_count": 25,
   "id": "14e048bd-f050-409f-8731-edde49c36ae9",
   "metadata": {
    "execution": {
     "iopub.execute_input": "2024-12-11T16:59:07.648309Z",
     "iopub.status.busy": "2024-12-11T16:59:07.647933Z",
     "iopub.status.idle": "2024-12-11T16:59:07.651106Z",
     "shell.execute_reply": "2024-12-11T16:59:07.650539Z",
     "shell.execute_reply.started": "2024-12-11T16:59:07.648294Z"
    },
    "tags": []
   },
   "outputs": [
    {
     "data": {
      "text/plain": [
       "24"
      ]
     },
     "execution_count": 25,
     "metadata": {},
     "output_type": "execute_result"
    }
   ],
   "source": [
    "np.max(array)"
   ]
  },
  {
   "cell_type": "markdown",
   "id": "65e5fcb5-3f10-476f-b302-ceac8bb76ad0",
   "metadata": {},
   "source": [
    "## __3. String Function in Numpy__ ##"
   ]
  },
  {
   "cell_type": "code",
   "execution_count": 26,
   "id": "d5867dab-69e5-454e-88ae-2e74137701a5",
   "metadata": {
    "execution": {
     "iopub.execute_input": "2024-12-11T17:01:10.910707Z",
     "iopub.status.busy": "2024-12-11T17:01:10.910330Z",
     "iopub.status.idle": "2024-12-11T17:01:10.928324Z",
     "shell.execute_reply": "2024-12-11T17:01:10.919805Z",
     "shell.execute_reply.started": "2024-12-11T17:01:10.910680Z"
    },
    "tags": []
   },
   "outputs": [],
   "source": [
    "# Perform element-wise string concatenation for two arrays of string\n",
    "x = np.array(['Hello','World'])\n",
    "y = np.array(['Welcome', 'Learners'])"
   ]
  },
  {
   "cell_type": "code",
   "execution_count": 27,
   "id": "6a198e51-3362-4be7-a577-f5634a4575c4",
   "metadata": {
    "execution": {
     "iopub.execute_input": "2024-12-11T17:01:12.273558Z",
     "iopub.status.busy": "2024-12-11T17:01:12.273126Z",
     "iopub.status.idle": "2024-12-11T17:01:12.292486Z",
     "shell.execute_reply": "2024-12-11T17:01:12.288034Z",
     "shell.execute_reply.started": "2024-12-11T17:01:12.273529Z"
    },
    "tags": []
   },
   "outputs": [
    {
     "data": {
      "text/plain": [
       "array(['Hello', 'World'], dtype='<U5')"
      ]
     },
     "execution_count": 27,
     "metadata": {},
     "output_type": "execute_result"
    }
   ],
   "source": [
    "x"
   ]
  },
  {
   "cell_type": "code",
   "execution_count": 28,
   "id": "35884386-68d0-4e4d-b291-dda8e88d184f",
   "metadata": {
    "execution": {
     "iopub.execute_input": "2024-12-11T17:01:14.774293Z",
     "iopub.status.busy": "2024-12-11T17:01:14.773918Z",
     "iopub.status.idle": "2024-12-11T17:01:14.790716Z",
     "shell.execute_reply": "2024-12-11T17:01:14.781389Z",
     "shell.execute_reply.started": "2024-12-11T17:01:14.774263Z"
    },
    "tags": []
   },
   "outputs": [
    {
     "data": {
      "text/plain": [
       "array(['Welcome', 'Learners'], dtype='<U8')"
      ]
     },
     "execution_count": 28,
     "metadata": {},
     "output_type": "execute_result"
    }
   ],
   "source": [
    "y"
   ]
  },
  {
   "cell_type": "code",
   "execution_count": 29,
   "id": "630a3c86-e5b0-4cfd-92f0-00ee80c788bd",
   "metadata": {
    "execution": {
     "iopub.execute_input": "2024-12-11T17:02:32.850371Z",
     "iopub.status.busy": "2024-12-11T17:02:32.844309Z",
     "iopub.status.idle": "2024-12-11T17:02:32.860759Z",
     "shell.execute_reply": "2024-12-11T17:02:32.859029Z",
     "shell.execute_reply.started": "2024-12-11T17:02:32.850235Z"
    },
    "tags": []
   },
   "outputs": [
    {
     "data": {
      "text/plain": [
       "'Data Science'"
      ]
     },
     "execution_count": 29,
     "metadata": {},
     "output_type": "execute_result"
    }
   ],
   "source": [
    "\"Data\" + \" Science\""
   ]
  },
  {
   "cell_type": "code",
   "execution_count": 30,
   "id": "cdeb760d-8d03-4fcc-9ec3-e60f0292d06a",
   "metadata": {
    "execution": {
     "iopub.execute_input": "2024-12-11T17:03:27.198972Z",
     "iopub.status.busy": "2024-12-11T17:03:27.198440Z",
     "iopub.status.idle": "2024-12-11T17:03:27.208611Z",
     "shell.execute_reply": "2024-12-11T17:03:27.205540Z",
     "shell.execute_reply.started": "2024-12-11T17:03:27.198946Z"
    },
    "tags": []
   },
   "outputs": [
    {
     "name": "stdout",
     "output_type": "stream",
     "text": [
      "['HelloWelcome' 'WorldLearners']\n"
     ]
    }
   ],
   "source": [
    "result = np.char.add(x,y)\n",
    "print(result) "
   ]
  },
  {
   "cell_type": "code",
   "execution_count": 34,
   "id": "4ec7ef12-9b6d-4d66-b98b-0a3301f953ac",
   "metadata": {
    "execution": {
     "iopub.execute_input": "2024-12-11T17:06:28.408840Z",
     "iopub.status.busy": "2024-12-11T17:06:28.408461Z",
     "iopub.status.idle": "2024-12-11T17:06:28.424878Z",
     "shell.execute_reply": "2024-12-11T17:06:28.420753Z",
     "shell.execute_reply.started": "2024-12-11T17:06:28.408809Z"
    },
    "tags": []
   },
   "outputs": [
    {
     "name": "stdout",
     "output_type": "stream",
     "text": [
      "Hello Hello How Are You\n"
     ]
    }
   ],
   "source": [
    "# Replacing the old substring with the new substring\n",
    "string = \"Hello Hello How Are You\"\n",
    "print(string)"
   ]
  },
  {
   "cell_type": "code",
   "execution_count": 35,
   "id": "78993da7-f6bb-4725-9baf-b769903a801a",
   "metadata": {
    "execution": {
     "iopub.execute_input": "2024-12-11T17:06:31.518152Z",
     "iopub.status.busy": "2024-12-11T17:06:31.517579Z",
     "iopub.status.idle": "2024-12-11T17:06:31.526514Z",
     "shell.execute_reply": "2024-12-11T17:06:31.525331Z",
     "shell.execute_reply.started": "2024-12-11T17:06:31.518126Z"
    },
    "tags": []
   },
   "outputs": [
    {
     "name": "stdout",
     "output_type": "stream",
     "text": [
      "Hi Hi How Are You\n"
     ]
    }
   ],
   "source": [
    "z = np.char.replace (string, 'Hello', 'Hi')\n",
    "print (z)"
   ]
  },
  {
   "cell_type": "code",
   "execution_count": 36,
   "id": "0d81b661-b020-444e-967e-f34cc611de79",
   "metadata": {
    "execution": {
     "iopub.execute_input": "2024-12-11T17:07:04.793002Z",
     "iopub.status.busy": "2024-12-11T17:07:04.792572Z",
     "iopub.status.idle": "2024-12-11T17:07:04.805589Z",
     "shell.execute_reply": "2024-12-11T17:07:04.802287Z",
     "shell.execute_reply.started": "2024-12-11T17:07:04.792979Z"
    },
    "tags": []
   },
   "outputs": [
    {
     "name": "stdout",
     "output_type": "stream",
     "text": [
      "hello how are you\n",
      "HELLO HOW ARE YOU\n"
     ]
    }
   ],
   "source": [
    "# Converting all lowercase characters in a string to uppercase and vice-versa\n",
    "str1 = \"hello how are you\"\n",
    "print(str1)\n",
    "z = np.char.upper (str1)\n",
    "print(z)"
   ]
  },
  {
   "cell_type": "code",
   "execution_count": 37,
   "id": "2c3fc3c3-e860-4706-b9e8-14ac6ffc27ae",
   "metadata": {
    "execution": {
     "iopub.execute_input": "2024-12-11T17:07:13.793132Z",
     "iopub.status.busy": "2024-12-11T17:07:13.792630Z",
     "iopub.status.idle": "2024-12-11T17:07:13.801533Z",
     "shell.execute_reply": "2024-12-11T17:07:13.799837Z",
     "shell.execute_reply.started": "2024-12-11T17:07:13.793106Z"
    },
    "tags": []
   },
   "outputs": [
    {
     "name": "stdout",
     "output_type": "stream",
     "text": [
      "GREETINGS OF THE DAY\n",
      "greetings of the day\n"
     ]
    }
   ],
   "source": [
    "\n",
    "str2 = \"GREETINGS OF THE DAY\"\n",
    "print(str2)\n",
    "s = np.char.lower (str2)\n",
    "print(s)"
   ]
  },
  {
   "cell_type": "markdown",
   "id": "e22f86d8-ff79-4345-b954-11702ab4f71f",
   "metadata": {},
   "source": [
    "## __Assisted Practice__"
   ]
  },
  {
   "cell_type": "markdown",
   "id": "28caa553-fb6f-4fd9-8cd0-a50934cdbc6f",
   "metadata": {},
   "source": [
    "### __Problem Statement:__\n",
    "\n",
    "Consider the following arrays:\n",
    "\n",
    "- Arrays for Arithmetic Operations:\n",
    "  * Array A: [15, 25, 35, 45, 55]\n",
    "  * Array B: [5, 10, 15, 20, 25]"
   ]
  },
  {
   "cell_type": "code",
   "execution_count": 39,
   "id": "b61f42d8-fd3f-4a60-af4a-dcdbbc8a70f4",
   "metadata": {
    "execution": {
     "iopub.execute_input": "2024-12-11T17:21:13.307494Z",
     "iopub.status.busy": "2024-12-11T17:21:13.306929Z",
     "iopub.status.idle": "2024-12-11T17:21:13.317049Z",
     "shell.execute_reply": "2024-12-11T17:21:13.316275Z",
     "shell.execute_reply.started": "2024-12-11T17:21:13.307468Z"
    },
    "tags": []
   },
   "outputs": [],
   "source": [
    "A = np.array([15, 25, 35, 45, 55])\n",
    "B = np.array([5, 10, 15, 20, 25])"
   ]
  },
  {
   "cell_type": "markdown",
   "id": "d0b68df7-9233-41fa-80ae-9cb79fc7ae4e",
   "metadata": {},
   "source": [
    "- Array for Statistical Operations:\n",
    "  * Array C: [12, 22, 32, 42, 52, 62, 72, 82, 92, 102]"
   ]
  },
  {
   "cell_type": "code",
   "execution_count": 40,
   "id": "3c97930a-e63a-45a8-93c9-3452d465c6cc",
   "metadata": {
    "execution": {
     "iopub.execute_input": "2024-12-11T17:21:14.525458Z",
     "iopub.status.busy": "2024-12-11T17:21:14.525026Z",
     "iopub.status.idle": "2024-12-11T17:21:14.533172Z",
     "shell.execute_reply": "2024-12-11T17:21:14.532256Z",
     "shell.execute_reply.started": "2024-12-11T17:21:14.525430Z"
    },
    "tags": []
   },
   "outputs": [],
   "source": [
    "C = np.array([12, 22, 32, 42, 52, 62, 72, 82, 92, 102])"
   ]
  },
  {
   "cell_type": "markdown",
   "id": "678483e4-c143-4d1a-a8e7-2f334a92f4cb",
   "metadata": {},
   "source": [
    "- Arrays for String Functions:\n",
    "  * String Array X: ['Hello', 'Data', 'Science', 'Class', 'Learners']\n",
    "  * String Array Y: ['World', 'Analysis', 'is', 'Fun', '2023']\n",
    "  \n",
    "  "
   ]
  },
  {
   "cell_type": "code",
   "execution_count": 41,
   "id": "ca922142-7405-41eb-bf5a-5c9b821bf75a",
   "metadata": {
    "execution": {
     "iopub.execute_input": "2024-12-11T17:21:15.849517Z",
     "iopub.status.busy": "2024-12-11T17:21:15.848670Z",
     "iopub.status.idle": "2024-12-11T17:21:15.865222Z",
     "shell.execute_reply": "2024-12-11T17:21:15.864231Z",
     "shell.execute_reply.started": "2024-12-11T17:21:15.849489Z"
    },
    "tags": []
   },
   "outputs": [],
   "source": [
    "X = np.array(['Hello', 'Data', 'Science', 'Class', 'Learners'])\n",
    "Y = np.array(['World', 'Analysis', 'is', 'Fun', '2023'])"
   ]
  },
  {
   "cell_type": "markdown",
   "id": "386491b0-fcc8-4f1a-b8d0-d63f9b7cee27",
   "metadata": {},
   "source": [
    "__Steps to Perform:__\n",
    "\n",
    "1. Perform element-wise addition, subtraction, multiplication, division, and power operations on Arrays A and B"
   ]
  },
  {
   "cell_type": "code",
   "execution_count": 42,
   "id": "c95ad4df-da72-4f30-b55d-20519c7c2be0",
   "metadata": {
    "execution": {
     "iopub.execute_input": "2024-12-11T17:21:17.868200Z",
     "iopub.status.busy": "2024-12-11T17:21:17.867464Z",
     "iopub.status.idle": "2024-12-11T17:21:17.881770Z",
     "shell.execute_reply": "2024-12-11T17:21:17.881018Z",
     "shell.execute_reply.started": "2024-12-11T17:21:17.868172Z"
    },
    "tags": []
   },
   "outputs": [
    {
     "data": {
      "text/plain": [
       "array([20, 35, 50, 65, 80])"
      ]
     },
     "execution_count": 42,
     "metadata": {},
     "output_type": "execute_result"
    }
   ],
   "source": [
    "# addition\n",
    "np.add(A,B)"
   ]
  },
  {
   "cell_type": "code",
   "execution_count": 43,
   "id": "0255249d-ca5d-445f-a572-e24687b7d352",
   "metadata": {
    "execution": {
     "iopub.execute_input": "2024-12-11T17:21:21.114874Z",
     "iopub.status.busy": "2024-12-11T17:21:21.114227Z",
     "iopub.status.idle": "2024-12-11T17:21:21.131739Z",
     "shell.execute_reply": "2024-12-11T17:21:21.130746Z",
     "shell.execute_reply.started": "2024-12-11T17:21:21.114847Z"
    },
    "tags": []
   },
   "outputs": [
    {
     "data": {
      "text/plain": [
       "array([10, 15, 20, 25, 30])"
      ]
     },
     "execution_count": 43,
     "metadata": {},
     "output_type": "execute_result"
    }
   ],
   "source": [
    "# subtraction\n",
    "np.subtract(A,B)"
   ]
  },
  {
   "cell_type": "code",
   "execution_count": 44,
   "id": "aa448ef5-69ae-429c-b963-a1b6d406631d",
   "metadata": {
    "execution": {
     "iopub.execute_input": "2024-12-11T17:21:23.149108Z",
     "iopub.status.busy": "2024-12-11T17:21:23.148753Z",
     "iopub.status.idle": "2024-12-11T17:21:23.192253Z",
     "shell.execute_reply": "2024-12-11T17:21:23.183476Z",
     "shell.execute_reply.started": "2024-12-11T17:21:23.149084Z"
    },
    "tags": []
   },
   "outputs": [
    {
     "data": {
      "text/plain": [
       "array([  75,  250,  525,  900, 1375])"
      ]
     },
     "execution_count": 44,
     "metadata": {},
     "output_type": "execute_result"
    }
   ],
   "source": [
    "# multiplication\n",
    "np.multiply(A,B)"
   ]
  },
  {
   "cell_type": "code",
   "execution_count": 45,
   "id": "05fd67e5-e83c-45a8-9dae-26c69e1858e3",
   "metadata": {
    "execution": {
     "iopub.execute_input": "2024-12-11T17:21:29.648778Z",
     "iopub.status.busy": "2024-12-11T17:21:29.648355Z",
     "iopub.status.idle": "2024-12-11T17:21:29.667067Z",
     "shell.execute_reply": "2024-12-11T17:21:29.665789Z",
     "shell.execute_reply.started": "2024-12-11T17:21:29.648753Z"
    },
    "tags": []
   },
   "outputs": [
    {
     "data": {
      "text/plain": [
       "array([3.        , 2.5       , 2.33333333, 2.25      , 2.2       ])"
      ]
     },
     "execution_count": 45,
     "metadata": {},
     "output_type": "execute_result"
    }
   ],
   "source": [
    "# division\n",
    "np.divide(A,B) # A/B"
   ]
  },
  {
   "cell_type": "code",
   "execution_count": 46,
   "id": "0eeb13ea-0256-4e07-9be1-3a05f0b8b6fe",
   "metadata": {
    "execution": {
     "iopub.execute_input": "2024-12-11T17:21:45.820226Z",
     "iopub.status.busy": "2024-12-11T17:21:45.819463Z",
     "iopub.status.idle": "2024-12-11T17:21:45.837049Z",
     "shell.execute_reply": "2024-12-11T17:21:45.835667Z",
     "shell.execute_reply.started": "2024-12-11T17:21:45.820112Z"
    },
    "tags": []
   },
   "outputs": [
    {
     "data": {
      "text/plain": [
       "array([             759375,      95367431640625, 3351328013648404811,\n",
       "       6545036034076902481, 6038590913291571831])"
      ]
     },
     "execution_count": 46,
     "metadata": {},
     "output_type": "execute_result"
    }
   ],
   "source": [
    "np.power(A,B)"
   ]
  },
  {
   "cell_type": "markdown",
   "id": "e06970ba-8eb6-49c7-b6ac-cacc529defe9",
   "metadata": {},
   "source": [
    "2. Calculate the median, mean, standard deviation, and variance for Array C"
   ]
  },
  {
   "cell_type": "code",
   "execution_count": 47,
   "id": "e8dd1dc6-69f3-4285-9f62-7bf46ff0a39b",
   "metadata": {
    "execution": {
     "iopub.execute_input": "2024-12-11T17:21:56.108568Z",
     "iopub.status.busy": "2024-12-11T17:21:56.107809Z",
     "iopub.status.idle": "2024-12-11T17:21:56.129652Z",
     "shell.execute_reply": "2024-12-11T17:21:56.129046Z",
     "shell.execute_reply.started": "2024-12-11T17:21:56.108158Z"
    },
    "tags": []
   },
   "outputs": [
    {
     "data": {
      "text/plain": [
       "57.0"
      ]
     },
     "execution_count": 47,
     "metadata": {},
     "output_type": "execute_result"
    }
   ],
   "source": [
    "# median of array C\n",
    "np.median(C)"
   ]
  },
  {
   "cell_type": "code",
   "execution_count": 48,
   "id": "9a1c8786-c391-45c0-a218-2b4a499e6553",
   "metadata": {
    "execution": {
     "iopub.execute_input": "2024-12-11T17:21:56.912731Z",
     "iopub.status.busy": "2024-12-11T17:21:56.911795Z",
     "iopub.status.idle": "2024-12-11T17:21:56.927590Z",
     "shell.execute_reply": "2024-12-11T17:21:56.919772Z",
     "shell.execute_reply.started": "2024-12-11T17:21:56.912641Z"
    },
    "tags": []
   },
   "outputs": [
    {
     "data": {
      "text/plain": [
       "57.0"
      ]
     },
     "execution_count": 48,
     "metadata": {},
     "output_type": "execute_result"
    }
   ],
   "source": [
    "# mean of array C\n",
    "np.mean(C)"
   ]
  },
  {
   "cell_type": "code",
   "execution_count": 49,
   "id": "eeea6d7e-34e6-4951-8b40-27c57d7a5ae8",
   "metadata": {
    "execution": {
     "iopub.execute_input": "2024-12-11T17:21:57.492429Z",
     "iopub.status.busy": "2024-12-11T17:21:57.491782Z",
     "iopub.status.idle": "2024-12-11T17:21:57.508408Z",
     "shell.execute_reply": "2024-12-11T17:21:57.507220Z",
     "shell.execute_reply.started": "2024-12-11T17:21:57.492401Z"
    },
    "tags": []
   },
   "outputs": [
    {
     "data": {
      "text/plain": [
       "28.722813232690143"
      ]
     },
     "execution_count": 49,
     "metadata": {},
     "output_type": "execute_result"
    }
   ],
   "source": [
    "# standard deviation of array C\n",
    "np.std(C)"
   ]
  },
  {
   "cell_type": "code",
   "execution_count": 50,
   "id": "27ed5f1b-381f-4fca-b0bf-2358f590266b",
   "metadata": {
    "execution": {
     "iopub.execute_input": "2024-12-11T17:21:59.233725Z",
     "iopub.status.busy": "2024-12-11T17:21:59.233343Z",
     "iopub.status.idle": "2024-12-11T17:21:59.243117Z",
     "shell.execute_reply": "2024-12-11T17:21:59.241652Z",
     "shell.execute_reply.started": "2024-12-11T17:21:59.233701Z"
    },
    "tags": []
   },
   "outputs": [
    {
     "data": {
      "text/plain": [
       "825.0"
      ]
     },
     "execution_count": 50,
     "metadata": {},
     "output_type": "execute_result"
    }
   ],
   "source": [
    "# variance of array C\n",
    "np.var(C)"
   ]
  },
  {
   "cell_type": "markdown",
   "id": "629be9ea-61c5-4284-91ed-44d3e524d315",
   "metadata": {},
   "source": [
    "3. Concatenate corresponding elements of String Arrays X and Y"
   ]
  },
  {
   "cell_type": "code",
   "execution_count": 51,
   "id": "0ce8dc0e-f086-424c-8903-744935c90f26",
   "metadata": {
    "execution": {
     "iopub.execute_input": "2024-12-11T17:22:03.348916Z",
     "iopub.status.busy": "2024-12-11T17:22:03.348488Z",
     "iopub.status.idle": "2024-12-11T17:22:03.365328Z",
     "shell.execute_reply": "2024-12-11T17:22:03.364883Z",
     "shell.execute_reply.started": "2024-12-11T17:22:03.348888Z"
    },
    "tags": []
   },
   "outputs": [
    {
     "data": {
      "text/plain": [
       "array(['HelloWorld', 'DataAnalysis', 'Scienceis', 'ClassFun',\n",
       "       'Learners2023'], dtype='<U16')"
      ]
     },
     "execution_count": 51,
     "metadata": {},
     "output_type": "execute_result"
    }
   ],
   "source": [
    "# concatenate the elements of X and Y\n",
    "np.char.add(X,Y)"
   ]
  },
  {
   "cell_type": "markdown",
   "id": "85cf38bc-ed25-45f5-b6fa-7422626ac68c",
   "metadata": {
    "tags": []
   },
   "source": [
    "4. Convert all elements in String Array X to uppercase"
   ]
  },
  {
   "cell_type": "code",
   "execution_count": 52,
   "id": "35ec0e35-80f9-4873-9ceb-7e0cc3378c29",
   "metadata": {
    "execution": {
     "iopub.execute_input": "2024-12-11T17:22:10.275014Z",
     "iopub.status.busy": "2024-12-11T17:22:10.274661Z",
     "iopub.status.idle": "2024-12-11T17:22:10.285808Z",
     "shell.execute_reply": "2024-12-11T17:22:10.283650Z",
     "shell.execute_reply.started": "2024-12-11T17:22:10.274990Z"
    },
    "tags": []
   },
   "outputs": [
    {
     "data": {
      "text/plain": [
       "array(['HELLO', 'DATA', 'SCIENCE', 'CLASS', 'LEARNERS'], dtype='<U8')"
      ]
     },
     "execution_count": 52,
     "metadata": {},
     "output_type": "execute_result"
    }
   ],
   "source": [
    "# convert elements in A to uppercase\n",
    "np.char.upper(X)"
   ]
  },
  {
   "cell_type": "markdown",
   "id": "a14fadb5-81ba-4e6a-a0e8-74db180869a8",
   "metadata": {
    "tags": []
   },
   "source": [
    "5. Replace a specific substring in String Array Y with another substring"
   ]
  },
  {
   "cell_type": "code",
   "execution_count": 53,
   "id": "cf0b453e-303c-47ae-b33f-5a19dbf5b8a8",
   "metadata": {
    "execution": {
     "iopub.execute_input": "2024-12-11T17:22:24.334558Z",
     "iopub.status.busy": "2024-12-11T17:22:24.334026Z",
     "iopub.status.idle": "2024-12-11T17:22:24.343779Z",
     "shell.execute_reply": "2024-12-11T17:22:24.342536Z",
     "shell.execute_reply.started": "2024-12-11T17:22:24.334532Z"
    },
    "tags": []
   },
   "outputs": [
    {
     "data": {
      "text/plain": [
       "array(['World', 'Analysis', 'is', 'Awesome', '2023'], dtype='<U8')"
      ]
     },
     "execution_count": 53,
     "metadata": {},
     "output_type": "execute_result"
    }
   ],
   "source": [
    "# replace \"Fun\" with \"Awesome\" in Y\n",
    "np.char.replace(Y, 'Fun', 'Awesome')"
   ]
  },
  {
   "cell_type": "code",
   "execution_count": null,
   "id": "d1931e55-79c7-4a93-afb2-58d3eb7145e5",
   "metadata": {},
   "outputs": [],
   "source": []
  }
 ],
 "metadata": {
  "kernelspec": {
   "display_name": "Python 3 (ipykernel)",
   "language": "python",
   "name": "python3"
  },
  "language_info": {
   "codemirror_mode": {
    "name": "ipython",
    "version": 3
   },
   "file_extension": ".py",
   "mimetype": "text/x-python",
   "name": "python",
   "nbconvert_exporter": "python",
   "pygments_lexer": "ipython3",
   "version": "3.12.3"
  },
  "widgets": {
   "application/vnd.jupyter.widget-state+json": {
    "state": {},
    "version_major": 2,
    "version_minor": 0
   }
  }
 },
 "nbformat": 4,
 "nbformat_minor": 5
}
